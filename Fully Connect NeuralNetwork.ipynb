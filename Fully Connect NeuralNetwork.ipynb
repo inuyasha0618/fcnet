{
 "cells": [
  {
   "cell_type": "code",
   "execution_count": 1,
   "metadata": {
    "collapsed": true
   },
   "outputs": [],
   "source": [
    "import numpy as np\n",
    "import matplotlib.pyplot as plt\n",
    "from layers import *\n",
    "from gradientCheck import *\n",
    "from relativeError import *\n",
    "%reload_ext autoreload"
   ]
  },
  {
   "cell_type": "markdown",
   "metadata": {},
   "source": [
    "## 梯度检查： 看affine_backward是否实现正确"
   ]
  },
  {
   "cell_type": "code",
   "execution_count": 2,
   "metadata": {},
   "outputs": [
    {
     "name": "stdout",
     "output_type": "stream",
     "text": [
      "162.720377666\n",
      "162.720377669\n",
      "dX relative error: 0.000000\n",
      "dW relative error: 0.000000\n",
      "db relative error: 0.000000\n"
     ]
    }
   ],
   "source": [
    "np.random.seed(231)\n",
    "\n",
    "X = np.random.rand(60).reshape(3, 4, 5)\n",
    "\n",
    "W = np.random.randn(20, 5)\n",
    "\n",
    "b = np.random.rand(5)\n",
    "\n",
    "out, cache = affine_forward(X, W, b)\n",
    "\n",
    "dout = 10 * np.random.randn(*out.shape)\n",
    "\n",
    "f_X = lambda x: affine_forward(x, W, b)[0]\n",
    "\n",
    "f_W = lambda w: affine_forward(X, w, b)[0]\n",
    "\n",
    "f_b = lambda b: affine_forward(X, W, b)[0]\n",
    "\n",
    "dX_num = numerical_gradient(f_X, X, dout)\n",
    "\n",
    "dW_num = numerical_gradient(f_W, W, dout)\n",
    "\n",
    "db_num = numerical_gradient(f_b, b, dout)\n",
    "print(np.sum(dX_num))\n",
    "\n",
    "dX, dW, db = affine_backward(dout, cache)\n",
    "\n",
    "print(np.sum(dX))\n",
    "\n",
    "\n",
    "print('dX relative error: %f'%(relative_error(dX, dX_num)))\n",
    "\n",
    "print('dW relative error: %f'%(relative_error(dW, dW_num)))\n",
    "\n",
    "print('db relative error: %f'%(relative_error(db, db_num)))"
   ]
  },
  {
   "cell_type": "markdown",
   "metadata": {},
   "source": [
    "## 梯度检查： 看relu_backward是否实现正确"
   ]
  },
  {
   "cell_type": "code",
   "execution_count": 3,
   "metadata": {},
   "outputs": [
    {
     "name": "stdout",
     "output_type": "stream",
     "text": [
      "[[ 0.08706084 -0.39078755 -0.53630667 -0.0694466 ]\n",
      " [ 1.19596293 -1.23569345 -0.53806511 -0.6078434 ]\n",
      " [ 0.92544992  0.28567297 -0.5000103  -0.88501449]]\n",
      "[[-0.75379626  0.          0.         -0.        ]\n",
      " [-0.93293922  0.          0.          0.        ]\n",
      " [-2.07169044 -0.26723653  0.         -0.        ]]\n",
      "[[-0.75379626  0.          0.          0.        ]\n",
      " [-0.93293922  0.          0.          0.        ]\n",
      " [-2.07169044 -0.26723653  0.          0.        ]]\n",
      "dX relative error: 0.000000\n"
     ]
    }
   ],
   "source": [
    "X = np.random.randn(3, 4)\n",
    "\n",
    "print(X)\n",
    "\n",
    "out, cache = relu_forward(X)\n",
    "\n",
    "dout = np.random.randn(*out.shape)\n",
    "\n",
    "dX = relu_backward(dout, cache)\n",
    "\n",
    "print(dX)\n",
    "\n",
    "f = lambda x: relu_forward(x)[0]\n",
    "\n",
    "dX_num = numerical_gradient(f, X, dout)\n",
    "\n",
    "print(dX_num)\n",
    "\n",
    "print('dX relative error: %f'%(relative_error(dX, dX_num)))"
   ]
  },
  {
   "cell_type": "markdown",
   "metadata": {
    "collapsed": true
   },
   "source": [
    "## 梯度检查： 看affine_relu_backward是否实现正确"
   ]
  },
  {
   "cell_type": "code",
   "execution_count": 4,
   "metadata": {},
   "outputs": [
    {
     "name": "stdout",
     "output_type": "stream",
     "text": [
      "-1.77546717238\n",
      "-1.77546717233\n",
      "dX relative error: 0.000000\n",
      "dW relative error: 0.000000\n",
      "db relative error: 0.000000\n"
     ]
    }
   ],
   "source": [
    "np.random.seed(231)\n",
    "\n",
    "X = np.random.rand(60).reshape(3, 4, 5)\n",
    "\n",
    "W = np.random.randn(20, 5)\n",
    "\n",
    "b = np.random.rand(5)\n",
    "\n",
    "out, cache = affine_relu_forward(X, W, b)\n",
    "\n",
    "dout = 10 * np.random.randn(*out.shape)\n",
    "\n",
    "f_X = lambda x: affine_relu_forward(x, W, b)[0]\n",
    "\n",
    "f_W = lambda w: affine_relu_forward(X, w, b)[0]\n",
    "\n",
    "f_b = lambda b: affine_relu_forward(X, W, b)[0]\n",
    "\n",
    "dX_num = numerical_gradient(f_X, X, dout)\n",
    "\n",
    "dW_num = numerical_gradient(f_W, W, dout)\n",
    "\n",
    "db_num = numerical_gradient(f_b, b, dout)\n",
    "print(np.sum(dX_num))\n",
    "\n",
    "dX, dW, db = affine_relu_backward(dout, cache)\n",
    "\n",
    "print(np.sum(dX))\n",
    "\n",
    "\n",
    "print('dX relative error: %f'%(relative_error(dX, dX_num)))\n",
    "\n",
    "print('dW relative error: %f'%(relative_error(dW, dW_num)))\n",
    "\n",
    "print('db relative error: %f'%(relative_error(db, db_num)))"
   ]
  },
  {
   "cell_type": "code",
   "execution_count": 13,
   "metadata": {},
   "outputs": [],
   "source": [
    "np.random.seed(231)\n",
    "arr = np.random.randn(5, 4)"
   ]
  },
  {
   "cell_type": "code",
   "execution_count": 14,
   "metadata": {},
   "outputs": [
    {
     "data": {
      "text/plain": [
       "array([[ 0.41794341,  1.39710028, -1.78590431, -0.70882773],\n",
       "       [-0.07472532, -0.77501677, -0.1497979 ,  1.86172902],\n",
       "       [-1.4255293 , -0.3763567 , -0.34227539,  0.29490764],\n",
       "       [-0.83732373,  0.95218767,  1.32931659,  0.52465245],\n",
       "       [-0.14809998,  0.88953195,  0.12444653,  0.99109251]])"
      ]
     },
     "execution_count": 14,
     "metadata": {},
     "output_type": "execute_result"
    }
   ],
   "source": [
    "arr"
   ]
  },
  {
   "cell_type": "code",
   "execution_count": 15,
   "metadata": {
    "collapsed": true
   },
   "outputs": [],
   "source": [
    "index_arr = np.array([3, 1, 0, 2])"
   ]
  },
  {
   "cell_type": "code",
   "execution_count": 16,
   "metadata": {},
   "outputs": [
    {
     "data": {
      "text/plain": [
       "array([[-0.70882773,  1.39710028,  0.41794341, -1.78590431],\n",
       "       [ 1.86172902, -0.77501677, -0.07472532, -0.1497979 ],\n",
       "       [ 0.29490764, -0.3763567 , -1.4255293 , -0.34227539],\n",
       "       [ 0.52465245,  0.95218767, -0.83732373,  1.32931659],\n",
       "       [ 0.99109251,  0.88953195, -0.14809998,  0.12444653]])"
      ]
     },
     "execution_count": 16,
     "metadata": {},
     "output_type": "execute_result"
    }
   ],
   "source": [
    "arr[:, index_arr]"
   ]
  },
  {
   "cell_type": "code",
   "execution_count": 18,
   "metadata": {},
   "outputs": [
    {
     "data": {
      "text/plain": [
       "array([[ 1.,  1.],\n",
       "       [ 1.,  1.]])"
      ]
     },
     "execution_count": 18,
     "metadata": {},
     "output_type": "execute_result"
    }
   ],
   "source": [
    "np.ones((2, 2))"
   ]
  },
  {
   "cell_type": "code",
   "execution_count": 19,
   "metadata": {},
   "outputs": [
    {
     "ename": "TypeError",
     "evalue": "data type not understood",
     "output_type": "error",
     "traceback": [
      "\u001b[0;31m---------------------------------------------------------------------------\u001b[0m",
      "\u001b[0;31mTypeError\u001b[0m                                 Traceback (most recent call last)",
      "\u001b[0;32m<ipython-input-19-b9c6828c9097>\u001b[0m in \u001b[0;36m<module>\u001b[0;34m()\u001b[0m\n\u001b[0;32m----> 1\u001b[0;31m \u001b[0mnp\u001b[0m\u001b[0;34m.\u001b[0m\u001b[0mzeros\u001b[0m\u001b[0;34m(\u001b[0m\u001b[0;36m2\u001b[0m\u001b[0;34m,\u001b[0m\u001b[0;36m2\u001b[0m\u001b[0;34m)\u001b[0m\u001b[0;34m\u001b[0m\u001b[0m\n\u001b[0m",
      "\u001b[0;31mTypeError\u001b[0m: data type not understood"
     ]
    }
   ],
   "source": [
    "np.zeros(2,2)"
   ]
  },
  {
   "cell_type": "raw",
   "metadata": {},
   "source": []
  },
  {
   "cell_type": "code",
   "execution_count": 20,
   "metadata": {},
   "outputs": [
    {
     "data": {
      "text/plain": [
       "array([[ 0.41794341,  1.39710028, -1.78590431, -0.70882773],\n",
       "       [-0.07472532, -0.77501677, -0.1497979 ,  1.86172902],\n",
       "       [-1.4255293 , -0.3763567 , -0.34227539,  0.29490764],\n",
       "       [-0.83732373,  0.95218767,  1.32931659,  0.52465245],\n",
       "       [-0.14809998,  0.88953195,  0.12444653,  0.99109251]])"
      ]
     },
     "execution_count": 20,
     "metadata": {},
     "output_type": "execute_result"
    }
   ],
   "source": [
    "arr"
   ]
  },
  {
   "cell_type": "code",
   "execution_count": 21,
   "metadata": {},
   "outputs": [
    {
     "data": {
      "text/plain": [
       "array([[ 1.,  1.,  1.,  1.],\n",
       "       [ 1.,  1.,  1.,  1.],\n",
       "       [ 1.,  1.,  1.,  1.],\n",
       "       [ 1.,  1.,  1.,  1.],\n",
       "       [ 1.,  1.,  1.,  1.]])"
      ]
     },
     "execution_count": 21,
     "metadata": {},
     "output_type": "execute_result"
    }
   ],
   "source": [
    "np.ones_like(arr)"
   ]
  },
  {
   "cell_type": "code",
   "execution_count": 22,
   "metadata": {
    "collapsed": true
   },
   "outputs": [],
   "source": [
    "arr = np.arange(3).reshape(3, 1)"
   ]
  },
  {
   "cell_type": "code",
   "execution_count": 23,
   "metadata": {},
   "outputs": [
    {
     "data": {
      "text/plain": [
       "array([[0],\n",
       "       [1],\n",
       "       [2]])"
      ]
     },
     "execution_count": 23,
     "metadata": {},
     "output_type": "execute_result"
    }
   ],
   "source": [
    "arr"
   ]
  },
  {
   "cell_type": "code",
   "execution_count": 24,
   "metadata": {
    "collapsed": true
   },
   "outputs": [],
   "source": [
    "arr2 = np.arange(9).reshape(3, 3)"
   ]
  },
  {
   "cell_type": "code",
   "execution_count": 25,
   "metadata": {},
   "outputs": [
    {
     "data": {
      "text/plain": [
       "array([[0, 1, 2],\n",
       "       [3, 4, 5],\n",
       "       [6, 7, 8]])"
      ]
     },
     "execution_count": 25,
     "metadata": {},
     "output_type": "execute_result"
    }
   ],
   "source": [
    "arr2"
   ]
  },
  {
   "cell_type": "code",
   "execution_count": 26,
   "metadata": {},
   "outputs": [
    {
     "data": {
      "text/plain": [
       "array([[ 0,  0,  0],\n",
       "       [ 3,  4,  5],\n",
       "       [12, 14, 16]])"
      ]
     },
     "execution_count": 26,
     "metadata": {},
     "output_type": "execute_result"
    }
   ],
   "source": [
    "arr * arr2"
   ]
  },
  {
   "cell_type": "code",
   "execution_count": 27,
   "metadata": {},
   "outputs": [
    {
     "data": {
      "text/plain": [
       "array([[0],\n",
       "       [1],\n",
       "       [2]])"
      ]
     },
     "execution_count": 27,
     "metadata": {},
     "output_type": "execute_result"
    }
   ],
   "source": [
    "arr"
   ]
  },
  {
   "cell_type": "code",
   "execution_count": 28,
   "metadata": {},
   "outputs": [
    {
     "data": {
      "text/plain": [
       "array([[0, 1, 2],\n",
       "       [3, 4, 5],\n",
       "       [6, 7, 8]])"
      ]
     },
     "execution_count": 28,
     "metadata": {},
     "output_type": "execute_result"
    }
   ],
   "source": [
    "arr2"
   ]
  },
  {
   "cell_type": "code",
   "execution_count": 29,
   "metadata": {
    "collapsed": true
   },
   "outputs": [],
   "source": [
    "mask = arr > 4"
   ]
  },
  {
   "cell_type": "code",
   "execution_count": 30,
   "metadata": {},
   "outputs": [
    {
     "data": {
      "text/plain": [
       "array([[False],\n",
       "       [False],\n",
       "       [False]], dtype=bool)"
      ]
     },
     "execution_count": 30,
     "metadata": {},
     "output_type": "execute_result"
    }
   ],
   "source": [
    "mask"
   ]
  },
  {
   "cell_type": "code",
   "execution_count": null,
   "metadata": {
    "collapsed": true
   },
   "outputs": [],
   "source": []
  }
 ],
 "metadata": {
  "kernelspec": {
   "display_name": "Python 3",
   "language": "python",
   "name": "python3"
  },
  "language_info": {
   "codemirror_mode": {
    "name": "ipython",
    "version": 3
   },
   "file_extension": ".py",
   "mimetype": "text/x-python",
   "name": "python",
   "nbconvert_exporter": "python",
   "pygments_lexer": "ipython3",
   "version": "3.6.1"
  }
 },
 "nbformat": 4,
 "nbformat_minor": 2
}
