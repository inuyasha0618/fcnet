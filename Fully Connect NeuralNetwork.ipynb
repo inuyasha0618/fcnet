{
 "cells": [
  {
   "cell_type": "code",
   "execution_count": 1,
   "metadata": {
    "collapsed": true
   },
   "outputs": [],
   "source": [
    "import numpy as np\n",
    "import matplotlib.pyplot as plt\n",
    "from layers import *\n",
    "from gradientCheck import *\n",
    "from relativeError import *\n",
    "from fcnet import *\n",
    "from Trainer import *\n",
    "%reload_ext autoreload\n",
    "%autoreload 2\n"
   ]
  },
  {
   "cell_type": "markdown",
   "metadata": {},
   "source": [
    "## 看affine_forward是否实现正确"
   ]
  },
  {
   "cell_type": "code",
   "execution_count": 2,
   "metadata": {},
   "outputs": [
    {
     "name": "stdout",
     "output_type": "stream",
     "text": [
      "Testing affine_forward function:\n",
      "difference:  9.76984772881e-10\n"
     ]
    }
   ],
   "source": [
    "num_inputs = 2\n",
    "input_shape = (4, 5, 6)\n",
    "output_dim = 3\n",
    "\n",
    "input_size = num_inputs * np.prod(input_shape)\n",
    "weight_size = output_dim * np.prod(input_shape)\n",
    "\n",
    "x = np.linspace(-0.1, 0.5, num=input_size).reshape(num_inputs, *input_shape)\n",
    "w = np.linspace(-0.2, 0.3, num=weight_size).reshape(np.prod(input_shape), output_dim)\n",
    "b = np.linspace(-0.3, 0.1, num=output_dim)\n",
    "\n",
    "out, _ = affine_forward(x, w, b)\n",
    "correct_out = np.array([[ 1.49834967,  1.70660132,  1.91485297],\n",
    "                        [ 3.25553199,  3.5141327,   3.77273342]])\n",
    "\n",
    "# Compare your output with ours. The error should be around 1e-9.\n",
    "print('Testing affine_forward function:')\n",
    "print('difference: ',relative_error(out, correct_out))"
   ]
  },
  {
   "cell_type": "markdown",
   "metadata": {},
   "source": [
    "## 梯度检查： 看affine_backward是否实现正确"
   ]
  },
  {
   "cell_type": "code",
   "execution_count": 3,
   "metadata": {},
   "outputs": [
    {
     "name": "stdout",
     "output_type": "stream",
     "text": [
      "162.720377666\n",
      "162.720377669\n",
      "dX relative error:  4.49923355477e-10\n",
      "dW relative error:  1.38140535474e-09\n",
      "db relative error:  2.72717852923e-11\n"
     ]
    }
   ],
   "source": [
    "np.random.seed(231)\n",
    "\n",
    "X = np.random.rand(60).reshape(3, 4, 5)\n",
    "\n",
    "W = np.random.randn(20, 5)\n",
    "\n",
    "b = np.random.rand(5)\n",
    "\n",
    "out, cache = affine_forward(X, W, b)\n",
    "\n",
    "dout = 10 * np.random.randn(*out.shape)\n",
    "\n",
    "f_X = lambda x: affine_forward(x, W, b)[0]\n",
    "\n",
    "f_W = lambda w: affine_forward(X, w, b)[0]\n",
    "\n",
    "f_b = lambda b: affine_forward(X, W, b)[0]\n",
    "\n",
    "dX_num = numerical_gradient(f_X, X, dout)\n",
    "\n",
    "dW_num = numerical_gradient(f_W, W, dout)\n",
    "\n",
    "db_num = numerical_gradient(f_b, b, dout)\n",
    "print(np.sum(dX_num))\n",
    "\n",
    "dX, dW, db = affine_backward(dout, cache)\n",
    "\n",
    "print(np.sum(dX))\n",
    "\n",
    "\n",
    "print('dX relative error: ',relative_error(dX, dX_num))\n",
    "\n",
    "print('dW relative error: ',relative_error(dW, dW_num))\n",
    "\n",
    "print('db relative error: ',relative_error(db, db_num))"
   ]
  },
  {
   "cell_type": "markdown",
   "metadata": {},
   "source": [
    "## 梯度检查： 看relu_backward是否实现正确"
   ]
  },
  {
   "cell_type": "code",
   "execution_count": 4,
   "metadata": {},
   "outputs": [
    {
     "name": "stdout",
     "output_type": "stream",
     "text": [
      "[[ 0.08706084 -0.39078755 -0.53630667 -0.0694466 ]\n",
      " [ 1.19596293 -1.23569345 -0.53806511 -0.6078434 ]\n",
      " [ 0.92544992  0.28567297 -0.5000103  -0.88501449]]\n",
      "dX relative error:  3.27560929819e-12\n"
     ]
    }
   ],
   "source": [
    "X = np.random.randn(3, 4)\n",
    "\n",
    "print(X)\n",
    "\n",
    "out, cache = relu_forward(X)\n",
    "\n",
    "dout = np.random.randn(*out.shape)\n",
    "\n",
    "dX = relu_backward(dout, cache)\n",
    "\n",
    "\n",
    "f = lambda x: relu_forward(x)[0]\n",
    "\n",
    "dX_num = numerical_gradient(f, X, dout)\n",
    "\n",
    "print('dX relative error: ',relative_error(dX, dX_num))"
   ]
  },
  {
   "cell_type": "markdown",
   "metadata": {
    "collapsed": true
   },
   "source": [
    "## 梯度检查： 看affine_relu_backward是否实现正确"
   ]
  },
  {
   "cell_type": "code",
   "execution_count": 5,
   "metadata": {},
   "outputs": [
    {
     "name": "stdout",
     "output_type": "stream",
     "text": [
      "-1.77546717238\n",
      "-1.77546717233\n",
      "dX relative error:  8.22096101856e-11\n",
      "dW relative error:  2.02296859154e-10\n",
      "db relative error:  5.00054605599e-13\n"
     ]
    }
   ],
   "source": [
    "np.random.seed(231)\n",
    "\n",
    "X = np.random.rand(60).reshape(3, 4, 5)\n",
    "\n",
    "W = np.random.randn(20, 5)\n",
    "\n",
    "b = np.random.rand(5)\n",
    "\n",
    "out, cache = affine_relu_forward(X, W, b)\n",
    "\n",
    "dout = 10 * np.random.randn(*out.shape)\n",
    "\n",
    "f_X = lambda x: affine_relu_forward(x, W, b)[0]\n",
    "\n",
    "f_W = lambda w: affine_relu_forward(X, w, b)[0]\n",
    "\n",
    "f_b = lambda b: affine_relu_forward(X, W, b)[0]\n",
    "\n",
    "dX_num = numerical_gradient(f_X, X, dout)\n",
    "\n",
    "dW_num = numerical_gradient(f_W, W, dout)\n",
    "\n",
    "db_num = numerical_gradient(f_b, b, dout)\n",
    "print(np.sum(dX_num))\n",
    "\n",
    "dX, dW, db = affine_relu_backward(dout, cache)\n",
    "\n",
    "print(np.sum(dX))\n",
    "\n",
    "\n",
    "print('dX relative error: ',(relative_error(dX, dX_num)))\n",
    "\n",
    "print('dW relative error: ',(relative_error(dW, dW_num)))\n",
    "\n",
    "print('db relative error: ',(relative_error(db, db_num)))"
   ]
  },
  {
   "cell_type": "code",
   "execution_count": 6,
   "metadata": {},
   "outputs": [
    {
     "name": "stdout",
     "output_type": "stream",
     "text": [
      "dscores relative error:  3.56982465388e-16\n"
     ]
    }
   ],
   "source": [
    "scores = np.random.randn(50, 6)\n",
    "\n",
    "y = np.random.randint(6, size=(50, ))\n",
    "\n",
    "loss, dscores = softmax_loss(scores, y)\n",
    "\n",
    "loss_true, dscores_true = softmax_loss_true(scores, y)\n",
    "\n",
    "dout = 1\n",
    "\n",
    "f_sc = lambda scores: softmax_loss_true(scores, y)[0]\n",
    "\n",
    "dscores_num = numerical_gradient(f_sc, scores, dout)\n",
    "\n",
    "dscores_num2 = eval_numerical_gradient(f_sc, scores, verbose=False)\n",
    "\n",
    "print('dscores relative error: ',(relative_error(dscores_true, dscores)))\n"
   ]
  },
  {
   "cell_type": "markdown",
   "metadata": {},
   "source": [
    "## 需要实现一个任意层神经网络模型类"
   ]
  },
  {
   "cell_type": "code",
   "execution_count": 7,
   "metadata": {
    "collapsed": true
   },
   "outputs": [],
   "source": [
    "np.random.seed(666)\n",
    "X = np.random.randn(50, 3, 4)\n",
    "N = X.shape[0]\n",
    "input_dim = X.reshape(N, -1).shape[1]\n",
    "y = np.random.randint(6, size=(N, ))\n",
    "fcnet = FullyConnectNet(layers=[10, 10, 6], input_dim=input_dim, reg=0.3)"
   ]
  },
  {
   "cell_type": "code",
   "execution_count": 8,
   "metadata": {
    "collapsed": true
   },
   "outputs": [],
   "source": [
    "loss, grads = fcnet.loss(X, y)"
   ]
  },
  {
   "cell_type": "code",
   "execution_count": 9,
   "metadata": {},
   "outputs": [
    {
     "name": "stdout",
     "output_type": "stream",
     "text": [
      "68.0233988609\n",
      "W3 (10, 6)\n",
      "b3 (6,)\n",
      "W2 (10, 10)\n",
      "b2 (10,)\n",
      "W1 (12, 10)\n",
      "b1 (10,)\n"
     ]
    }
   ],
   "source": [
    "print(loss)\n",
    "for key, val in grads.items():\n",
    "    print(key, val.shape)"
   ]
  },
  {
   "cell_type": "markdown",
   "metadata": {},
   "source": [
    "## 下面梯度检查，看grads是否正确"
   ]
  },
  {
   "cell_type": "markdown",
   "metadata": {},
   "source": [
    "## 接下来实现公用的训练器Trainer"
   ]
  },
  {
   "cell_type": "code",
   "execution_count": 27,
   "metadata": {},
   "outputs": [
    {
     "data": {
      "image/png": "[encoded data removed]",
      "text/plain": [
       "<matplotlib.figure.Figure at 0x11a82c198>"
      ]
     },
     "metadata": {},
     "output_type": "display_data"
    }
   ],
   "source": [
    "N = 100 # number of points per class\n",
    "D = 2 # dimensionality\n",
    "K = 3 # number of classes\n",
    "X = np.zeros((N*K,D)) # data matrix (each row = single example)\n",
    "y = np.zeros(N*K, dtype='uint8') # class labels\n",
    "for j in range(K):\n",
    "  ix = range(N*j,N*(j+1))\n",
    "  r = np.linspace(0.0,1,N) # radius\n",
    "  t = np.linspace(j*4,(j+1)*4,N) + np.random.randn(N)*0.2 # theta\n",
    "  X[ix] = np.c_[r*np.sin(t), r*np.cos(t)]\n",
    "  y[ix] = j\n",
    "# lets visualize the data:\n",
    "plt.scatter(X[:, 0], X[:, 1], c=y, s=40, cmap=plt.cm.Spectral)\n",
    "plt.show()"
   ]
  },
  {
   "cell_type": "code",
   "execution_count": 74,
   "metadata": {},
   "outputs": [
    {
     "data": {
      "image/png": "[encoded data removed]",
      "text/plain": [
       "<matplotlib.figure.Figure at 0x11a6647b8>"
      ]
     },
     "metadata": {},
     "output_type": "display_data"
    },
    {
     "name": "stdout",
     "output_type": "stream",
     "text": [
      "0.203788662257\n",
      "0.976666666667\n"
     ]
    }
   ],
   "source": [
    "data = {\n",
    "    'X_train': X,\n",
    "    'y_train': y,\n",
    "    'X_val': None,\n",
    "    'y_val': None\n",
    "}\n",
    "\n",
    "test_net = FullyConnectNet(layers=[10, 10, K], input_dim=D, reg=1e-3)\n",
    "trainer = Trainer(test_net, data, batch_size=150, epoch_nums=6000, learning_rate=1e-2)\n",
    "\n",
    "loss_cache = trainer.train()\n",
    "\n",
    "plt.plot(np.arange(len(loss_cache)), loss_cache)\n",
    "\n",
    "plt.show()\n",
    "\n",
    "print(loss_cache[-1])\n",
    "\n",
    "print(trainer.check_train_accuracy())"
   ]
  },
  {
   "cell_type": "markdown",
   "metadata": {},
   "source": [
    "## 画出决策边界"
   ]
  },
  {
   "cell_type": "code",
   "execution_count": 122,
   "metadata": {},
   "outputs": [
    {
     "data": {
      "image/png": "[encoded data removed]",
      "text/plain": [
       "<matplotlib.figure.Figure at 0x11a7fb2e8>"
      ]
     },
     "metadata": {},
     "output_type": "display_data"
    }
   ],
   "source": [
    "spaced = 200\n",
    "\n",
    "test_X = np.zeros((spaced ** 2, 2))\n",
    "\n",
    "x_nums = np.linspace(-1, 1, spaced)\n",
    "\n",
    "for i in range(spaced):\n",
    "    \n",
    "    test_X[i*spaced: i*spaced + spaced][:, 0] = np.ones(spaced) * x_nums[i]\n",
    "    \n",
    "    test_X[i*spaced: i*spaced + spaced][:, 1] = np.linspace(-1, 1, spaced)\n",
    "    \n",
    "labels = test_net.predict(test_X)\n",
    "plt.scatter(test_X[:, 0], test_X[:, 1], c=labels, s=30, cmap=plt.cm.Spectral)\n",
    "plt.show()"
   ]
  },
  {
   "cell_type": "code",
   "execution_count": null,
   "metadata": {
    "collapsed": true
   },
   "outputs": [],
   "source": []
  }
 ],
 "metadata": {
  "kernelspec": {
   "display_name": "Python 3",
   "language": "python",
   "name": "python3"
  },
  "language_info": {
   "codemirror_mode": {
    "name": "ipython",
    "version": 3
   },
   "file_extension": ".py",
   "mimetype": "text/x-python",
   "name": "python",
   "nbconvert_exporter": "python",
   "pygments_lexer": "ipython3",
   "version": "3.6.1"
  }
 },
 "nbformat": 4,
 "nbformat_minor": 2
}
