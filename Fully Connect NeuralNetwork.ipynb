{
 "cells": [
  {
   "cell_type": "code",
   "execution_count": 15,
   "metadata": {
    "collapsed": true
   },
   "outputs": [],
   "source": [
    "import numpy as np\n",
    "import matplotlib.pyplot as plt\n",
    "from layers import *\n",
    "from gradientCheck import *\n",
    "from relativeError import *\n",
    "%reload_ext autoreload\n",
    "%autoreload 2\n"
   ]
  },
  {
   "cell_type": "markdown",
   "metadata": {},
   "source": [
    "## 看affine_forward是否实现正确"
   ]
  },
  {
   "cell_type": "code",
   "execution_count": 21,
   "metadata": {
    "collapsed": false
   },
   "outputs": [
    {
     "name": "stdout",
     "output_type": "stream",
     "text": [
      "Testing affine_forward function:\n",
      "('difference: ', 9.7698477288066354e-10)\n"
     ]
    }
   ],
   "source": [
    "num_inputs = 2\n",
    "input_shape = (4, 5, 6)\n",
    "output_dim = 3\n",
    "\n",
    "input_size = num_inputs * np.prod(input_shape)\n",
    "weight_size = output_dim * np.prod(input_shape)\n",
    "\n",
    "x = np.linspace(-0.1, 0.5, num=input_size).reshape(num_inputs, *input_shape)\n",
    "w = np.linspace(-0.2, 0.3, num=weight_size).reshape(np.prod(input_shape), output_dim)\n",
    "b = np.linspace(-0.3, 0.1, num=output_dim)\n",
    "\n",
    "out, _ = affine_forward(x, w, b)\n",
    "correct_out = np.array([[ 1.49834967,  1.70660132,  1.91485297],\n",
    "                        [ 3.25553199,  3.5141327,   3.77273342]])\n",
    "\n",
    "# Compare your output with ours. The error should be around 1e-9.\n",
    "print('Testing affine_forward function:')\n",
    "print('difference: ',relative_error(out, correct_out))"
   ]
  },
  {
   "cell_type": "markdown",
   "metadata": {},
   "source": [
    "## 梯度检查： 看affine_backward是否实现正确"
   ]
  },
  {
   "cell_type": "code",
   "execution_count": 20,
   "metadata": {
    "collapsed": false
   },
   "outputs": [
    {
     "name": "stdout",
     "output_type": "stream",
     "text": [
      "162.720377666\n",
      "162.720377669\n",
      "('dX relative error: ', 4.4992335547692555e-10)\n",
      "('dW relative error: ', 1.38140535474486e-09)\n",
      "('db relative error: ', 2.7271785292348208e-11)\n"
     ]
    }
   ],
   "source": [
    "np.random.seed(231)\n",
    "\n",
    "X = np.random.rand(60).reshape(3, 4, 5)\n",
    "\n",
    "W = np.random.randn(20, 5)\n",
    "\n",
    "b = np.random.rand(5)\n",
    "\n",
    "out, cache = affine_forward(X, W, b)\n",
    "\n",
    "dout = 10 * np.random.randn(*out.shape)\n",
    "\n",
    "f_X = lambda x: affine_forward(x, W, b)[0]\n",
    "\n",
    "f_W = lambda w: affine_forward(X, w, b)[0]\n",
    "\n",
    "f_b = lambda b: affine_forward(X, W, b)[0]\n",
    "\n",
    "dX_num = numerical_gradient(f_X, X, dout)\n",
    "\n",
    "dW_num = numerical_gradient(f_W, W, dout)\n",
    "\n",
    "db_num = numerical_gradient(f_b, b, dout)\n",
    "print(np.sum(dX_num))\n",
    "\n",
    "dX, dW, db = affine_backward(dout, cache)\n",
    "\n",
    "print(np.sum(dX))\n",
    "\n",
    "\n",
    "print('dX relative error: ',relative_error(dX, dX_num))\n",
    "\n",
    "print('dW relative error: ',relative_error(dW, dW_num))\n",
    "\n",
    "print('db relative error: ',relative_error(db, db_num))"
   ]
  },
  {
   "cell_type": "markdown",
   "metadata": {},
   "source": [
    "## 梯度检查： 看relu_backward是否实现正确"
   ]
  },
  {
   "cell_type": "code",
   "execution_count": 23,
   "metadata": {
    "collapsed": false
   },
   "outputs": [
    {
     "name": "stdout",
     "output_type": "stream",
     "text": [
      "[[-1.16098537 -1.33673751  0.67989698  0.70258129]\n",
      " [ 0.03928057 -0.09810845  0.21523806 -0.33828224]\n",
      " [-1.33485215 -1.16741677 -0.49441246 -0.55104268]]\n",
      "('dX relative error: ', 2.2755828242956136e-12)\n"
     ]
    }
   ],
   "source": [
    "X = np.random.randn(3, 4)\n",
    "\n",
    "print(X)\n",
    "\n",
    "out, cache = relu_forward(X)\n",
    "\n",
    "dout = np.random.randn(*out.shape)\n",
    "\n",
    "dX = relu_backward(dout, cache)\n",
    "\n",
    "\n",
    "f = lambda x: relu_forward(x)[0]\n",
    "\n",
    "dX_num = numerical_gradient(f, X, dout)\n",
    "\n",
    "print('dX relative error: ',relative_error(dX, dX_num))"
   ]
  },
  {
   "cell_type": "markdown",
   "metadata": {
    "collapsed": true
   },
   "source": [
    "## 梯度检查： 看affine_relu_backward是否实现正确"
   ]
  },
  {
   "cell_type": "code",
   "execution_count": 24,
   "metadata": {
    "collapsed": false
   },
   "outputs": [
    {
     "name": "stdout",
     "output_type": "stream",
     "text": [
      "-1.77546717238\n",
      "-1.77546717233\n",
      "('dX relative error: ', 8.2209610185603213e-11)\n",
      "('dW relative error: ', 2.0229685915422614e-10)\n",
      "('db relative error: ', 5.0005460559918315e-13)\n"
     ]
    }
   ],
   "source": [
    "np.random.seed(231)\n",
    "\n",
    "X = np.random.rand(60).reshape(3, 4, 5)\n",
    "\n",
    "W = np.random.randn(20, 5)\n",
    "\n",
    "b = np.random.rand(5)\n",
    "\n",
    "out, cache = affine_relu_forward(X, W, b)\n",
    "\n",
    "dout = 10 * np.random.randn(*out.shape)\n",
    "\n",
    "f_X = lambda x: affine_relu_forward(x, W, b)[0]\n",
    "\n",
    "f_W = lambda w: affine_relu_forward(X, w, b)[0]\n",
    "\n",
    "f_b = lambda b: affine_relu_forward(X, W, b)[0]\n",
    "\n",
    "dX_num = numerical_gradient(f_X, X, dout)\n",
    "\n",
    "dW_num = numerical_gradient(f_W, W, dout)\n",
    "\n",
    "db_num = numerical_gradient(f_b, b, dout)\n",
    "print(np.sum(dX_num))\n",
    "\n",
    "dX, dW, db = affine_relu_backward(dout, cache)\n",
    "\n",
    "print(np.sum(dX))\n",
    "\n",
    "\n",
    "print('dX relative error: ',(relative_error(dX, dX_num)))\n",
    "\n",
    "print('dW relative error: ',(relative_error(dW, dW_num)))\n",
    "\n",
    "print('db relative error: ',(relative_error(db, db_num)))"
   ]
  },
  {
   "cell_type": "code",
   "execution_count": 48,
   "metadata": {
    "collapsed": false
   },
   "outputs": [
    {
     "name": "stdout",
     "output_type": "stream",
     "text": [
      "('dscores relative error: ', 5.5968326050866418e-16)\n"
     ]
    }
   ],
   "source": [
    "scores = np.random.randn(50, 6)\n",
    "\n",
    "y = np.random.randint(6, size=(50, ))\n",
    "\n",
    "loss, dscores = softmax_loss(scores, y)\n",
    "\n",
    "loss_true, dscores_true = softmax_loss_true(scores, y)\n",
    "\n",
    "dout = 1\n",
    "\n",
    "f_sc = lambda scores: softmax_loss_true(scores, y)[0]\n",
    "\n",
    "dscores_num = numerical_gradient(f_sc, scores, dout)\n",
    "\n",
    "dscores_num2 = eval_numerical_gradient(f_sc, scores, verbose=False)\n",
    "\n",
    "print('dscores relative error: ',(relative_error(dscores_true, dscores)))\n"
   ]
  },
  {
   "cell_type": "markdown",
   "metadata": {},
   "source": [
    "## 需要实现一个任意层神经网络模型类"
   ]
  },
  {
   "cell_type": "markdown",
   "metadata": {},
   "source": [
    "## 接下来实现公用的训练器"
   ]
  },
  {
   "cell_type": "code",
   "execution_count": 49,
   "metadata": {
    "collapsed": false
   },
   "outputs": [
    {
     "data": {
      "text/plain": [
       "'W2'"
      ]
     },
     "execution_count": 49,
     "metadata": {},
     "output_type": "execute_result"
    }
   ],
   "source": [
    "'W%d'%2"
   ]
  },
  {
   "cell_type": "code",
   "execution_count": 50,
   "metadata": {
    "collapsed": false
   },
   "outputs": [
    {
     "data": {
      "text/plain": [
       "array([ 0.98222103,  0.20244692,  0.38018709])"
      ]
     },
     "execution_count": 50,
     "metadata": {},
     "output_type": "execute_result"
    }
   ],
   "source": [
    "np.random.rand(3)"
   ]
  },
  {
   "cell_type": "code",
   "execution_count": 51,
   "metadata": {
    "collapsed": false
   },
   "outputs": [
    {
     "data": {
      "text/plain": [
       "<reversed at 0x10b81a890>"
      ]
     },
     "execution_count": 51,
     "metadata": {},
     "output_type": "execute_result"
    }
   ],
   "source": [
    "reversed(np.arange(5))"
   ]
  },
  {
   "cell_type": "code",
   "execution_count": 52,
   "metadata": {
    "collapsed": false
   },
   "outputs": [
    {
     "data": {
      "text/plain": [
       "[0, 1, 2, 3, 4]"
      ]
     },
     "execution_count": 52,
     "metadata": {},
     "output_type": "execute_result"
    }
   ],
   "source": [
    "range(5)"
   ]
  },
  {
   "cell_type": "code",
   "execution_count": 53,
   "metadata": {
    "collapsed": false
   },
   "outputs": [
    {
     "data": {
      "text/plain": [
       "<listreverseiterator at 0x10b838510>"
      ]
     },
     "execution_count": 53,
     "metadata": {},
     "output_type": "execute_result"
    }
   ],
   "source": [
    "reversed(range(5))"
   ]
  },
  {
   "cell_type": "code",
   "execution_count": 54,
   "metadata": {
    "collapsed": false
   },
   "outputs": [
    {
     "name": "stdout",
     "output_type": "stream",
     "text": [
      "4\n",
      "3\n",
      "2\n",
      "1\n",
      "0\n"
     ]
    }
   ],
   "source": [
    "for i in reversed(np.arange(5)):\n",
    "    print i"
   ]
  },
  {
   "cell_type": "code",
   "execution_count": 55,
   "metadata": {
    "collapsed": false
   },
   "outputs": [
    {
     "name": "stdout",
     "output_type": "stream",
     "text": [
      "2\n",
      "1\n",
      "0\n"
     ]
    }
   ],
   "source": [
    "for i in reversed(range(3)):\n",
    "    print i"
   ]
  },
  {
   "cell_type": "code",
   "execution_count": null,
   "metadata": {
    "collapsed": true
   },
   "outputs": [],
   "source": []
  }
 ],
 "metadata": {
  "kernelspec": {
   "display_name": "Python 2",
   "language": "python",
   "name": "python2"
  },
  "language_info": {
   "codemirror_mode": {
    "name": "ipython",
    "version": 2
   },
   "file_extension": ".py",
   "mimetype": "text/x-python",
   "name": "python",
   "nbconvert_exporter": "python",
   "pygments_lexer": "ipython2",
   "version": "2.7.13"
  }
 },
 "nbformat": 4,
 "nbformat_minor": 2
}
