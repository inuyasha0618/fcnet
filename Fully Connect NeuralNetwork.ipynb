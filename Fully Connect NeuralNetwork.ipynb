{
 "cells": [
  {
   "cell_type": "code",
   "execution_count": 2,
   "metadata": {
    "collapsed": true
   },
   "outputs": [],
   "source": [
    "import numpy as np\n",
    "import matplotlib.pyplot as plt\n",
    "from layers import *\n",
    "from gradientCheck import *\n",
    "from relativeError import *"
   ]
  },
  {
   "cell_type": "code",
   "execution_count": 2,
   "metadata": {},
   "outputs": [
    {
     "name": "stdout",
     "output_type": "stream",
     "text": [
      "dX relative error: 0.000000\n",
      "[[  0.58278762   0.58278762]\n",
      " [-31.17139638 -31.17139638]]\n",
      "[[  0.58278762   0.58278762]\n",
      " [-31.17139637 -31.17139637]]\n",
      "dW relative error: 0.000000\n",
      "db relative error: 0.000000\n"
     ]
    }
   ],
   "source": [
    "np.random.seed(231)\n",
    "\n",
    "# X = np.arange(60).reshape(3, 4, 5)\n",
    "\n",
    "# W = np.random.randn(20, 5)\n",
    "\n",
    "# b = np.random.rand(5)\n",
    "\n",
    "# X = np.ones((2, 2)) * 10\n",
    "\n",
    "# W = np.ones((2, 3)) * 2\n",
    "\n",
    "# b = np.ones(3) * 3\n",
    "\n",
    "x = np.random.randn(10, 2, 3)\n",
    "w = np.random.randn(6, 5)\n",
    "b = np.random.randn(5)\n",
    "dout = np.random.randn(10, 5)\n",
    "\n",
    "out, cache = affine_forward(X, W, b)\n",
    "\n",
    "dout = 10 * np.random.randn(*out.shape)\n",
    "\n",
    "dX, dW, db = affine_backward(dout, cache)\n",
    "\n",
    "f_X = lambda x: affine_forward(x, W, b)[0]\n",
    "\n",
    "f_W = lambda w: affine_forward(X, w, b)[0]\n",
    "\n",
    "f_b = lambda b: affine_forward(X, W, b)[0]\n",
    "\n",
    "# print(f_X(X).shape)\n",
    "# print(X.reshape(3, -1).shape)\n",
    "\n",
    "dX_num = numerical_gradient(f_X, X, dout)\n",
    "\n",
    "dW_num = numerical_gradient(f_W, W, dout)\n",
    "\n",
    "db_num = numerical_gradient(f_b, b, dout)\n",
    "\n",
    "print('dX relative error: %f'%(relative_error(dX, dX_num)))\n",
    "\n",
    "print(dX)\n",
    "\n",
    "print(dX_num)\n",
    "\n",
    "print('dW relative error: %f'%(relative_error(dW, dW_num)))\n",
    "\n",
    "print('db relative error: %f'%(relative_error(db, db_num)))"
   ]
  },
  {
   "cell_type": "code",
   "execution_count": 3,
   "metadata": {},
   "outputs": [
    {
     "name": "stdout",
     "output_type": "stream",
     "text": [
      "[[0 1]\n",
      " [2 3]]\n",
      "[[0 1]\n",
      " [2 3]]\n",
      "[[0 0]\n",
      " [2 3]]\n",
      "[[0 1]\n",
      " [2 3]]\n",
      "[[0 1]\n",
      " [1 3]]\n",
      "[[0 1]\n",
      " [2 3]]\n",
      "[[0 1]\n",
      " [2 2]]\n",
      "[[0 1]\n",
      " [2 3]]\n"
     ]
    },
    {
     "data": {
      "text/plain": [
       "array([[     0,  49999],\n",
       "       [150000, 249999]])"
      ]
     },
     "execution_count": 3,
     "metadata": {},
     "output_type": "execute_result"
    }
   ],
   "source": [
    "numerical_gradient(lambda x: x**2, np.arange(4).reshape(2, 2), np.ones((2, 2)))"
   ]
  },
  {
   "cell_type": "code",
   "execution_count": 4,
   "metadata": {},
   "outputs": [
    {
     "name": "stdout",
     "output_type": "stream",
     "text": [
      "[[  3.99996   9.     ]\n",
      " [ 16.       25.     ]]\n",
      "[[  4.00004   9.     ]\n",
      " [ 16.       25.     ]]\n",
      "[[  4.        8.99994]\n",
      " [ 16.       25.     ]]\n",
      "[[  4.        9.00006]\n",
      " [ 16.       25.     ]]\n",
      "[[  4.        9.     ]\n",
      " [ 15.99992  25.     ]]\n",
      "[[  4.        9.     ]\n",
      " [ 16.00008  25.     ]]\n",
      "[[  4.       9.    ]\n",
      " [ 16.      24.9999]]\n",
      "[[  4.       9.    ]\n",
      " [ 16.      25.0001]]\n"
     ]
    },
    {
     "data": {
      "text/plain": [
       "array([[ 4.,  6.],\n",
       "       [ 8., 10.]])"
      ]
     },
     "execution_count": 4,
     "metadata": {},
     "output_type": "execute_result"
    }
   ],
   "source": [
    "numerical_gradient(lambda x: x**2, np.array([[2.,3.], [4.,5.]]), np.ones((2, 2)))\n"
   ]
  },
  {
   "cell_type": "code",
   "execution_count": 19,
   "metadata": {
    "collapsed": true
   },
   "outputs": [],
   "source": [
    "arr = np.arange(4).reshape(2, 2)\n"
   ]
  },
  {
   "cell_type": "code",
   "execution_count": 20,
   "metadata": {},
   "outputs": [
    {
     "data": {
      "text/plain": [
       "array([[0, 1],\n",
       "       [2, 3]])"
      ]
     },
     "execution_count": 20,
     "metadata": {},
     "output_type": "execute_result"
    }
   ],
   "source": [
    "arr\n"
   ]
  },
  {
   "cell_type": "code",
   "execution_count": 21,
   "metadata": {},
   "outputs": [
    {
     "data": {
      "text/plain": [
       "3"
      ]
     },
     "execution_count": 21,
     "metadata": {},
     "output_type": "execute_result"
    }
   ],
   "source": [
    "arr[1, 1]"
   ]
  },
  {
   "cell_type": "code",
   "execution_count": 22,
   "metadata": {
    "collapsed": true
   },
   "outputs": [],
   "source": [
    "arr[1,1] += 1e-5"
   ]
  },
  {
   "cell_type": "code",
   "execution_count": 23,
   "metadata": {},
   "outputs": [
    {
     "data": {
      "text/plain": [
       "array([[0, 1],\n",
       "       [2, 3]])"
      ]
     },
     "execution_count": 23,
     "metadata": {},
     "output_type": "execute_result"
    }
   ],
   "source": [
    "arr\n"
   ]
  },
  {
   "cell_type": "raw",
   "metadata": {},
   "source": [
    "arr"
   ]
  },
  {
   "cell_type": "code",
   "execution_count": 24,
   "metadata": {},
   "outputs": [],
   "source": [
    "arr[1,1] -= 1e-5"
   ]
  },
  {
   "cell_type": "raw",
   "metadata": {},
   "source": []
  },
  {
   "cell_type": "code",
   "execution_count": 25,
   "metadata": {},
   "outputs": [
    {
     "data": {
      "text/plain": [
       "array([[0, 1],\n",
       "       [2, 2]])"
      ]
     },
     "execution_count": 25,
     "metadata": {},
     "output_type": "execute_result"
    }
   ],
   "source": [
    "arr"
   ]
  },
  {
   "cell_type": "code",
   "execution_count": null,
   "metadata": {
    "collapsed": true
   },
   "outputs": [],
   "source": []
  }
 ],
 "metadata": {
  "kernelspec": {
   "display_name": "Python 3",
   "language": "python",
   "name": "python3"
  },
  "language_info": {
   "codemirror_mode": {
    "name": "ipython",
    "version": 3
   },
   "file_extension": ".py",
   "mimetype": "text/x-python",
   "name": "python",
   "nbconvert_exporter": "python",
   "pygments_lexer": "ipython3",
   "version": "3.6.1"
  }
 },
 "nbformat": 4,
 "nbformat_minor": 2
}
